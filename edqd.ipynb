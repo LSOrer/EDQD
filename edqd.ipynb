{
 "cells": [
  {
   "cell_type": "code",
   "execution_count": 2,
   "id": "ba5e4f58",
   "metadata": {},
   "outputs": [],
   "source": [
    "import pandas as pd\n",
    "import numpy as np\n",
    "import overviews\n",
    "import cleaning\n",
    "\n",
    "#load csv into dataframe\n",
    "df = pd.read_csv('data/2easy.csv')\n",
    "#df2 = pd.read_csv('data/survey_results_public.csv')\n",
    "df3 = pd.read_csv('data/2easyColumnWithSpaces.csv')\n",
    "#show number of rows & columns\n",
    "shape = df.shape\n",
    "\n",
    "#give information about the data frame\n",
    "#info = df.info()\n",
    "\n",
    "#show columns\n",
    "slot = df.columns"
   ]
  },
  {
   "cell_type": "code",
   "execution_count": 3,
   "id": "a88a01c7",
   "metadata": {},
   "outputs": [
    {
     "name": "stdout",
     "output_type": "stream",
     "text": [
      "[case_id\n",
      "1    4\n",
      "Name: count, dtype: int64, event\n",
      "A    2\n",
      "Name: count, dtype: int64, timestamp\n",
      "2022-01-02    2\n",
      "Name: count, dtype: int64, resource\n",
      "robot    4\n",
      "Name: count, dtype: int64]\n"
     ]
    }
   ],
   "source": [
    "#prints the most common values: first the value itself and second the count \n",
    "print(overviews.most_common_values(df,1))"
   ]
  },
  {
   "cell_type": "code",
   "execution_count": 4,
   "id": "fa1a5983",
   "metadata": {},
   "outputs": [
    {
     "name": "stdout",
     "output_type": "stream",
     "text": [
      "case_id  event  timestamp   resource\n",
      "1        A      2022-01-01  clerk       1\n",
      "Name: count, dtype: int64\n"
     ]
    }
   ],
   "source": [
    "#prints the most common row\n",
    "print(overviews.most_common_rows(df,1))"
   ]
  },
  {
   "cell_type": "code",
   "execution_count": null,
   "id": "627f8cdc",
   "metadata": {},
   "outputs": [],
   "source": [
    "print(overviews.items_in_container(df).plot.line())"
   ]
  },
  {
   "cell_type": "code",
   "execution_count": null,
   "id": "cb7006c0",
   "metadata": {},
   "outputs": [],
   "source": [
    "print(overviews.length_of_items(df,20).plot.bar())"
   ]
  },
  {
   "cell_type": "code",
   "execution_count": null,
   "id": "38541fba",
   "metadata": {},
   "outputs": [],
   "source": [
    "print(overviews.minimum_value(df))"
   ]
  },
  {
   "cell_type": "code",
   "execution_count": null,
   "id": "38b0162a",
   "metadata": {},
   "outputs": [],
   "source": [
    "print(overviews.maximum_value(df))"
   ]
  },
  {
   "cell_type": "code",
   "execution_count": null,
   "id": "77cb0041",
   "metadata": {},
   "outputs": [],
   "source": [
    "print(overviews.n_largest(df,'case_id',3))"
   ]
  },
  {
   "cell_type": "code",
   "execution_count": null,
   "id": "6b033886",
   "metadata": {},
   "outputs": [],
   "source": [
    "print(overviews.n_smallest(df,'case_id',3))"
   ]
  },
  {
   "cell_type": "code",
   "execution_count": null,
   "id": "3e0544c7",
   "metadata": {},
   "outputs": [],
   "source": []
  }
 ],
 "metadata": {
  "kernelspec": {
   "display_name": "Python 3 (ipykernel)",
   "language": "python",
   "name": "python3"
  },
  "language_info": {
   "codemirror_mode": {
    "name": "ipython",
    "version": 3
   },
   "file_extension": ".py",
   "mimetype": "text/x-python",
   "name": "python",
   "nbconvert_exporter": "python",
   "pygments_lexer": "ipython3",
   "version": "3.11.5"
  },
  "vscode": {
   "interpreter": {
    "hash": "1afb42695c031548a61e5dc592dff3f119b8839f21f9f3bfb9b525e58e9f4459"
   }
  }
 },
 "nbformat": 4,
 "nbformat_minor": 5
}
