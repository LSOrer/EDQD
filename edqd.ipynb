{
 "cells": [
  {
   "cell_type": "code",
   "execution_count": 1,
   "id": "ba5e4f58",
   "metadata": {},
   "outputs": [],
   "source": [
    "import pandas as pd\n",
    "import numpy as np\n",
    "import overviews\n",
    "import cleaning\n",
    "\n",
    "#load csv into dataframe\n",
    "df = pd.read_csv('data/2easy.csv')\n",
    "df2 = pd.read_csv('data/survey_results_public.csv')\n",
    "df3 = pd.read_csv('data/2easyColumnWithSpaces.csv')\n",
    "#show number of rows & columns\n",
    "shape = df.shape\n",
    "\n",
    "#give information about the data frame\n",
    "#info = df.info()\n",
    "\n",
    "#show columns\n",
    "slot = df.columns\n"
   ]
  },
  {
   "cell_type": "code",
   "execution_count": null,
   "id": "a88a01c7",
   "metadata": {},
   "outputs": [],
   "source": [
    "print(overviews.most_common_values(df,1))"
   ]
  },
  {
   "cell_type": "code",
   "execution_count": null,
   "id": "fa1a5983",
   "metadata": {},
   "outputs": [],
   "source": [
    "print(overviews.most_common_rows(df,1))"
   ]
  },
  {
   "cell_type": "code",
   "execution_count": null,
   "id": "627f8cdc",
   "metadata": {},
   "outputs": [],
   "source": [
    "print(overviews.items_in_container(df))"
   ]
  },
  {
   "cell_type": "code",
   "execution_count": null,
   "id": "cb7006c0",
   "metadata": {},
   "outputs": [],
   "source": [
    "print(overviews.length_of_items(df,5))"
   ]
  }
 ],
 "metadata": {
  "kernelspec": {
   "display_name": "base",
   "language": "python",
   "name": "python3"
  },
  "language_info": {
   "codemirror_mode": {
    "name": "ipython",
    "version": 3
   },
   "file_extension": ".py",
   "mimetype": "text/x-python",
   "name": "python",
   "nbconvert_exporter": "python",
   "pygments_lexer": "ipython3",
   "version": "3.9.13"
  },
  "vscode": {
   "interpreter": {
    "hash": "1afb42695c031548a61e5dc592dff3f119b8839f21f9f3bfb9b525e58e9f4459"
   }
  }
 },
 "nbformat": 4,
 "nbformat_minor": 5
}
