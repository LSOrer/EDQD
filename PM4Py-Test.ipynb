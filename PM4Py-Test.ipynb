{
 "cells": [
  {
   "cell_type": "code",
   "execution_count": null,
   "id": "77c02dbe",
   "metadata": {
    "tags": [
     "Pandas"
    ]
   },
   "outputs": [],
   "source": [
    "conda install -c conda-forge ciso8601"
   ]
  },
  {
   "cell_type": "code",
   "execution_count": null,
   "id": "24cd4b7c",
   "metadata": {},
   "outputs": [],
   "source": [
    "pip install pm4py"
   ]
  },
  {
   "cell_type": "code",
   "execution_count": null,
   "id": "07b3ec00",
   "metadata": {},
   "outputs": [],
   "source": [
    "import pandas\n",
    "\n",
    "\n",
    "def import_csv(file_path):\n",
    "    event_log = pandas.read_csv(file_path, sep=',')\n",
    "    num_events = len(event_log)\n",
    "    num_cases = len(event_log.case_id.unique())\n",
    "    print(\"Number of events: {}\\nNumber of cases: {}\".format(num_events, num_cases))\n",
    "\n",
    "\n",
    "if __name__ == \"__main__\":\n",
    "    import_csv(\"data/2easy.csv\")"
   ]
  },
  {
   "cell_type": "code",
   "execution_count": null,
   "id": "14f29950",
   "metadata": {},
   "outputs": [],
   "source": [
    "import pm4py\n",
    "if __name__ == \"__main__\":\n",
    "    log = pm4py.read_xes('data/exercise1.xes')\n",
    "    process_model = pm4py.discover_bpmn_inductive(log)\n",
    "    pm4py.view_bpmn(process_model)\n",
    "\t\t\t\t\t"
   ]
  }
 ],
 "metadata": {
  "kernelspec": {
   "display_name": "base",
   "language": "python",
   "name": "python3"
  },
  "language_info": {
   "codemirror_mode": {
    "name": "ipython",
    "version": 3
   },
   "file_extension": ".py",
   "mimetype": "text/x-python",
   "name": "python",
   "nbconvert_exporter": "python",
   "pygments_lexer": "ipython3",
   "version": "3.9.13 (main, Aug 25 2022, 18:29:29) \n[Clang 12.0.0 ]"
  },
  "vscode": {
   "interpreter": {
    "hash": "1afb42695c031548a61e5dc592dff3f119b8839f21f9f3bfb9b525e58e9f4459"
   }
  }
 },
 "nbformat": 4,
 "nbformat_minor": 5
}
